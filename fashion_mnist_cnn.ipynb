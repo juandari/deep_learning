{
 "cells": [
  {
   "cell_type": "markdown",
   "metadata": {},
   "source": [
    "# Fashion MNIST Classification Using CNN in Keras"
   ]
  },
  {
   "cell_type": "code",
   "execution_count": 33,
   "metadata": {},
   "outputs": [],
   "source": [
    "from __future__ import absolute_import, division, print_function, unicode_literals\n",
    "\n",
    "import tensorflow as tf\n",
    "import numpy as np"
   ]
  },
  {
   "cell_type": "markdown",
   "metadata": {},
   "source": [
    "## Create Callbacks Class"
   ]
  },
  {
   "cell_type": "code",
   "execution_count": 47,
   "metadata": {},
   "outputs": [],
   "source": [
    "class EarlyStoppingAtMinLoss(tf.keras.callbacks.Callback):\n",
    "    \"\"\"Stop training when the loss is at its min, i.e. the loss stops decreasing.\n",
    "    \n",
    "    Arguments:\n",
    "        patience: Number of epochs to wait after min has been hit. After this\n",
    "        number of no impprovement, training stops.\n",
    "    \"\"\"\n",
    "    def __init__(self, patience=0):\n",
    "        super().__init__()\n",
    "        \n",
    "        self.patience = patience\n",
    "        \n",
    "        # best_weights to store the weights at which the minimum loss occurs.\n",
    "        self.best_weights = None\n",
    "        \n",
    "    def on_train_begin(self, logs=None):\n",
    "        # The number of epoch it has waited when loss is no longer minumum.\n",
    "        self.wait = 0\n",
    "        # The epoch the training stops at.\n",
    "        self.stopped_epoch = 0\n",
    "        # Initialize the best as infinity.\n",
    "        self.best = np.Inf\n",
    "        \n",
    "    def on_epoch_end(self, epoch, logs=None):\n",
    "        current = logs.get('loss')\n",
    "        if np.less(current, self.best):\n",
    "            self.best = current\n",
    "            self.wait = 0\n",
    "            # Record the best weights if current results is better (less).\n",
    "            self.best_weights = self.model.get_weights()\n",
    "        else:\n",
    "            self.wait += 1\n",
    "            if self.wait >= self.patience:\n",
    "                self.stopped_epoch = epoch\n",
    "                self.model.stop_training = True\n",
    "                print('\\nRestoring model weights from the end of the best epoch.')\n",
    "                self.model.set_weights(self.best_weights)\n",
    "    \n",
    "    def on_train_end(self, logs=None):\n",
    "        if self.stopped_epoch > 0:\n",
    "            print(f'Epoch {self.stopped_epoch + 1}: early stopping')"
   ]
  },
  {
   "cell_type": "markdown",
   "metadata": {},
   "source": [
    "## CNN Architecture"
   ]
  },
  {
   "cell_type": "code",
   "execution_count": 45,
   "metadata": {},
   "outputs": [
    {
     "name": "stdout",
     "output_type": "stream",
     "text": [
      "Model: \"sequential_9\"\n",
      "_________________________________________________________________\n",
      "Layer (type)                 Output Shape              Param #   \n",
      "=================================================================\n",
      "conv2d_18 (Conv2D)           (None, 26, 26, 64)        640       \n",
      "_________________________________________________________________\n",
      "max_pooling2d_18 (MaxPooling (None, 13, 13, 64)        0         \n",
      "_________________________________________________________________\n",
      "conv2d_19 (Conv2D)           (None, 11, 11, 64)        36928     \n",
      "_________________________________________________________________\n",
      "max_pooling2d_19 (MaxPooling (None, 5, 5, 64)          0         \n",
      "_________________________________________________________________\n",
      "flatten_9 (Flatten)          (None, 1600)              0         \n",
      "_________________________________________________________________\n",
      "dense_18 (Dense)             (None, 128)               204928    \n",
      "_________________________________________________________________\n",
      "dense_19 (Dense)             (None, 10)                1290      \n",
      "=================================================================\n",
      "Total params: 243,786\n",
      "Trainable params: 243,786\n",
      "Non-trainable params: 0\n",
      "_________________________________________________________________\n"
     ]
    }
   ],
   "source": [
    "fashion_mnist = tf.keras.datasets.fashion_mnist\n",
    "(train_images, train_labels), (test_images, test_labels) = fashion_mnist.load_data()\n",
    "train_images, test_images = train_images.reshape(60000, 28, 28, 1), test_images.reshape(10000, 28, 28, 1)\n",
    "train_images, test_images = train_images / 255, test_images / 255\n",
    "model = tf.keras.models.Sequential([\n",
    "    tf.keras.layers.Conv2D(64, (3, 3), activation='relu', input_shape=(28, 28, 1)),\n",
    "    tf.keras.layers.MaxPooling2D(2, 2),\n",
    "    tf.keras.layers.Conv2D(64, (3, 3)),\n",
    "    tf.keras.layers.MaxPooling2D(2, 2),\n",
    "    tf.keras.layers.Flatten(),\n",
    "    tf.keras.layers.Dense(128, activation='relu'),\n",
    "    tf.keras.layers.Dense(10, activation='softmax')\n",
    "])\n",
    "model.compile(optimizer='adam', loss='sparse_categorical_crossentropy', metrics=['accuracy'])\n",
    "model.summary()"
   ]
  },
  {
   "cell_type": "markdown",
   "metadata": {},
   "source": [
    "## Training and Evaluate Model"
   ]
  },
  {
   "cell_type": "code",
   "execution_count": 46,
   "metadata": {},
   "outputs": [
    {
     "name": "stdout",
     "output_type": "stream",
     "text": [
      "Train on 60000 samples\n",
      "Epoch 1/30\n",
      "60000/60000 [==============================] - 7s 111us/sample - loss: 0.4207 - accuracy: 0.8468\n",
      "Epoch 2/30\n",
      "60000/60000 [==============================] - 6s 105us/sample - loss: 0.2822 - accuracy: 0.8955\n",
      "Epoch 3/30\n",
      "60000/60000 [==============================] - 6s 107us/sample - loss: 0.2367 - accuracy: 0.9121\n",
      "Epoch 4/30\n",
      "60000/60000 [==============================] - 7s 110us/sample - loss: 0.2035 - accuracy: 0.9235\n",
      "Epoch 5/30\n",
      "60000/60000 [==============================] - 7s 110us/sample - loss: 0.1732 - accuracy: 0.9348\n",
      "Epoch 6/30\n",
      "60000/60000 [==============================] - 7s 110us/sample - loss: 0.1483 - accuracy: 0.9428\n",
      "Epoch 7/30\n",
      "60000/60000 [==============================] - 7s 110us/sample - loss: 0.1261 - accuracy: 0.9525\n",
      "Epoch 8/30\n",
      "60000/60000 [==============================] - 6s 108us/sample - loss: 0.1067 - accuracy: 0.9595\n",
      "Epoch 9/30\n",
      "60000/60000 [==============================] - 7s 110us/sample - loss: 0.0921 - accuracy: 0.9654\n",
      "Epoch 10/30\n",
      "60000/60000 [==============================] - 7s 110us/sample - loss: 0.0787 - accuracy: 0.9704\n",
      "Epoch 11/30\n",
      "60000/60000 [==============================] - 7s 110us/sample - loss: 0.0673 - accuracy: 0.9751\n",
      "Epoch 12/30\n",
      "60000/60000 [==============================] - 7s 109us/sample - loss: 0.0608 - accuracy: 0.9777\n",
      "Epoch 13/30\n",
      "60000/60000 [==============================] - 7s 110us/sample - loss: 0.0542 - accuracy: 0.9797\n",
      "Epoch 14/30\n",
      "60000/60000 [==============================] - 7s 110us/sample - loss: 0.0469 - accuracy: 0.9824\n",
      "Epoch 15/30\n",
      "60000/60000 [==============================] - 7s 110us/sample - loss: 0.0454 - accuracy: 0.9832\n",
      "Epoch 16/30\n",
      "60000/60000 [==============================] - 6s 108us/sample - loss: 0.0404 - accuracy: 0.9855\n",
      "Epoch 17/30\n",
      "60000/60000 [==============================] - 6s 106us/sample - loss: 0.0382 - accuracy: 0.9863\n",
      "Epoch 18/30\n",
      "60000/60000 [==============================] - 7s 110us/sample - loss: 0.0348 - accuracy: 0.9876\n",
      "Epoch 19/30\n",
      "59584/60000 [============================>.] - ETA: 0s - loss: 0.0354 - accuracy: 0.9878Restoring model weights from the end of the best epoch.\n",
      "60000/60000 [==============================] - 6s 107us/sample - loss: 0.0355 - accuracy: 0.9877\n",
      "Epoch 19: early stopping\n",
      "10000/10000 [==============================] - 1s 95us/sample - loss: 0.6347 - accuracy: 0.9003\n"
     ]
    }
   ],
   "source": [
    "model.fit(train_images, train_labels, epochs=30, callbacks=[EarlyStoppingAtMinLoss()])\n",
    "test_loss = model.evaluate(test_images, test_labels)"
   ]
  },
  {
   "cell_type": "code",
   "execution_count": null,
   "metadata": {},
   "outputs": [],
   "source": []
  }
 ],
 "metadata": {
  "kernelspec": {
   "display_name": "Python 3",
   "language": "python",
   "name": "python3"
  },
  "language_info": {
   "codemirror_mode": {
    "name": "ipython",
    "version": 3
   },
   "file_extension": ".py",
   "mimetype": "text/x-python",
   "name": "python",
   "nbconvert_exporter": "python",
   "pygments_lexer": "ipython3",
   "version": "3.7.6"
  }
 },
 "nbformat": 4,
 "nbformat_minor": 2
}
